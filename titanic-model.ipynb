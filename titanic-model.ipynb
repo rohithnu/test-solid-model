{
 "cells": [
  {
   "cell_type": "code",
   "execution_count": 1,
   "id": "256d8a16",
   "metadata": {
    "_cell_guid": "b1076dfc-b9ad-4769-8c92-a6c4dae69d19",
    "_uuid": "8f2839f25d086af736a60e9eeb907d3b93b6e0e5",
    "execution": {
     "iopub.execute_input": "2024-01-19T20:05:45.753827Z",
     "iopub.status.busy": "2024-01-19T20:05:45.753067Z",
     "iopub.status.idle": "2024-01-19T20:05:48.256022Z",
     "shell.execute_reply": "2024-01-19T20:05:48.254983Z"
    },
    "papermill": {
     "duration": 2.519289,
     "end_time": "2024-01-19T20:05:48.258878",
     "exception": false,
     "start_time": "2024-01-19T20:05:45.739589",
     "status": "completed"
    },
    "tags": []
   },
   "outputs": [],
   "source": [
    "#Importing necessary libraries\n",
    "import numpy as np \n",
    "import pandas as pd\n",
    "import matplotlib.pyplot as plt\n",
    "import seaborn as sns\n",
    "from sklearn.model_selection import train_test_split\n",
    "from sklearn.linear_model import LogisticRegression\n",
    "from sklearn.metrics import accuracy_score"
   ]
  },
  {
   "cell_type": "code",
   "execution_count": 2,
   "id": "62635547",
   "metadata": {
    "execution": {
     "iopub.execute_input": "2024-01-19T20:05:48.283994Z",
     "iopub.status.busy": "2024-01-19T20:05:48.283113Z",
     "iopub.status.idle": "2024-01-19T20:05:48.338216Z",
     "shell.execute_reply": "2024-01-19T20:05:48.336947Z"
    },
    "papermill": {
     "duration": 0.071022,
     "end_time": "2024-01-19T20:05:48.341404",
     "exception": false,
     "start_time": "2024-01-19T20:05:48.270382",
     "status": "completed"
    },
    "tags": []
   },
   "outputs": [
    {
     "data": {
      "text/html": [
       "<div>\n",
       "<style scoped>\n",
       "    .dataframe tbody tr th:only-of-type {\n",
       "        vertical-align: middle;\n",
       "    }\n",
       "\n",
       "    .dataframe tbody tr th {\n",
       "        vertical-align: top;\n",
       "    }\n",
       "\n",
       "    .dataframe thead th {\n",
       "        text-align: right;\n",
       "    }\n",
       "</style>\n",
       "<table border=\"1\" class=\"dataframe\">\n",
       "  <thead>\n",
       "    <tr style=\"text-align: right;\">\n",
       "      <th></th>\n",
       "      <th>PassengerId</th>\n",
       "      <th>Survived</th>\n",
       "      <th>Pclass</th>\n",
       "      <th>Name</th>\n",
       "      <th>Sex</th>\n",
       "      <th>Age</th>\n",
       "      <th>SibSp</th>\n",
       "      <th>Parch</th>\n",
       "      <th>Ticket</th>\n",
       "      <th>Fare</th>\n",
       "      <th>Cabin</th>\n",
       "      <th>Embarked</th>\n",
       "    </tr>\n",
       "  </thead>\n",
       "  <tbody>\n",
       "    <tr>\n",
       "      <th>0</th>\n",
       "      <td>1</td>\n",
       "      <td>0</td>\n",
       "      <td>3</td>\n",
       "      <td>Braund, Mr. Owen Harris</td>\n",
       "      <td>male</td>\n",
       "      <td>22.0</td>\n",
       "      <td>1</td>\n",
       "      <td>0</td>\n",
       "      <td>A/5 21171</td>\n",
       "      <td>7.2500</td>\n",
       "      <td>NaN</td>\n",
       "      <td>S</td>\n",
       "    </tr>\n",
       "    <tr>\n",
       "      <th>1</th>\n",
       "      <td>2</td>\n",
       "      <td>1</td>\n",
       "      <td>1</td>\n",
       "      <td>Cumings, Mrs. John Bradley (Florence Briggs Th...</td>\n",
       "      <td>female</td>\n",
       "      <td>38.0</td>\n",
       "      <td>1</td>\n",
       "      <td>0</td>\n",
       "      <td>PC 17599</td>\n",
       "      <td>71.2833</td>\n",
       "      <td>C85</td>\n",
       "      <td>C</td>\n",
       "    </tr>\n",
       "    <tr>\n",
       "      <th>2</th>\n",
       "      <td>3</td>\n",
       "      <td>1</td>\n",
       "      <td>3</td>\n",
       "      <td>Heikkinen, Miss. Laina</td>\n",
       "      <td>female</td>\n",
       "      <td>26.0</td>\n",
       "      <td>0</td>\n",
       "      <td>0</td>\n",
       "      <td>STON/O2. 3101282</td>\n",
       "      <td>7.9250</td>\n",
       "      <td>NaN</td>\n",
       "      <td>S</td>\n",
       "    </tr>\n",
       "    <tr>\n",
       "      <th>3</th>\n",
       "      <td>4</td>\n",
       "      <td>1</td>\n",
       "      <td>1</td>\n",
       "      <td>Futrelle, Mrs. Jacques Heath (Lily May Peel)</td>\n",
       "      <td>female</td>\n",
       "      <td>35.0</td>\n",
       "      <td>1</td>\n",
       "      <td>0</td>\n",
       "      <td>113803</td>\n",
       "      <td>53.1000</td>\n",
       "      <td>C123</td>\n",
       "      <td>S</td>\n",
       "    </tr>\n",
       "    <tr>\n",
       "      <th>4</th>\n",
       "      <td>5</td>\n",
       "      <td>0</td>\n",
       "      <td>3</td>\n",
       "      <td>Allen, Mr. William Henry</td>\n",
       "      <td>male</td>\n",
       "      <td>35.0</td>\n",
       "      <td>0</td>\n",
       "      <td>0</td>\n",
       "      <td>373450</td>\n",
       "      <td>8.0500</td>\n",
       "      <td>NaN</td>\n",
       "      <td>S</td>\n",
       "    </tr>\n",
       "  </tbody>\n",
       "</table>\n",
       "</div>"
      ],
      "text/plain": [
       "   PassengerId  Survived  Pclass  \\\n",
       "0            1         0       3   \n",
       "1            2         1       1   \n",
       "2            3         1       3   \n",
       "3            4         1       1   \n",
       "4            5         0       3   \n",
       "\n",
       "                                                Name     Sex   Age  SibSp  \\\n",
       "0                            Braund, Mr. Owen Harris    male  22.0      1   \n",
       "1  Cumings, Mrs. John Bradley (Florence Briggs Th...  female  38.0      1   \n",
       "2                             Heikkinen, Miss. Laina  female  26.0      0   \n",
       "3       Futrelle, Mrs. Jacques Heath (Lily May Peel)  female  35.0      1   \n",
       "4                           Allen, Mr. William Henry    male  35.0      0   \n",
       "\n",
       "   Parch            Ticket     Fare Cabin Embarked  \n",
       "0      0         A/5 21171   7.2500   NaN        S  \n",
       "1      0          PC 17599  71.2833   C85        C  \n",
       "2      0  STON/O2. 3101282   7.9250   NaN        S  \n",
       "3      0            113803  53.1000  C123        S  \n",
       "4      0            373450   8.0500   NaN        S  "
      ]
     },
     "execution_count": 2,
     "metadata": {},
     "output_type": "execute_result"
    }
   ],
   "source": [
    "#Importing Training dataset\n",
    "train_data = pd.read_csv(\"/kaggle/input/titanic/train.csv\") \n",
    "train_data.head()"
   ]
  },
  {
   "cell_type": "code",
   "execution_count": 3,
   "id": "cad3ef19",
   "metadata": {
    "execution": {
     "iopub.execute_input": "2024-01-19T20:05:48.367982Z",
     "iopub.status.busy": "2024-01-19T20:05:48.367230Z",
     "iopub.status.idle": "2024-01-19T20:05:48.374767Z",
     "shell.execute_reply": "2024-01-19T20:05:48.373616Z"
    },
    "papermill": {
     "duration": 0.024648,
     "end_time": "2024-01-19T20:05:48.377272",
     "exception": false,
     "start_time": "2024-01-19T20:05:48.352624",
     "status": "completed"
    },
    "tags": []
   },
   "outputs": [
    {
     "data": {
      "text/plain": [
       "(891, 12)"
      ]
     },
     "execution_count": 3,
     "metadata": {},
     "output_type": "execute_result"
    }
   ],
   "source": [
    "train_data.shape"
   ]
  },
  {
   "cell_type": "code",
   "execution_count": 4,
   "id": "a59ad4c6",
   "metadata": {
    "execution": {
     "iopub.execute_input": "2024-01-19T20:05:48.403526Z",
     "iopub.status.busy": "2024-01-19T20:05:48.402860Z",
     "iopub.status.idle": "2024-01-19T20:05:48.432939Z",
     "shell.execute_reply": "2024-01-19T20:05:48.432005Z"
    },
    "papermill": {
     "duration": 0.045933,
     "end_time": "2024-01-19T20:05:48.435478",
     "exception": false,
     "start_time": "2024-01-19T20:05:48.389545",
     "status": "completed"
    },
    "tags": []
   },
   "outputs": [
    {
     "name": "stdout",
     "output_type": "stream",
     "text": [
      "<class 'pandas.core.frame.DataFrame'>\n",
      "RangeIndex: 891 entries, 0 to 890\n",
      "Data columns (total 12 columns):\n",
      " #   Column       Non-Null Count  Dtype  \n",
      "---  ------       --------------  -----  \n",
      " 0   PassengerId  891 non-null    int64  \n",
      " 1   Survived     891 non-null    int64  \n",
      " 2   Pclass       891 non-null    int64  \n",
      " 3   Name         891 non-null    object \n",
      " 4   Sex          891 non-null    object \n",
      " 5   Age          714 non-null    float64\n",
      " 6   SibSp        891 non-null    int64  \n",
      " 7   Parch        891 non-null    int64  \n",
      " 8   Ticket       891 non-null    object \n",
      " 9   Fare         891 non-null    float64\n",
      " 10  Cabin        204 non-null    object \n",
      " 11  Embarked     889 non-null    object \n",
      "dtypes: float64(2), int64(5), object(5)\n",
      "memory usage: 83.7+ KB\n"
     ]
    }
   ],
   "source": [
    "train_data.info()"
   ]
  },
  {
   "cell_type": "code",
   "execution_count": 5,
   "id": "ad2d73cf",
   "metadata": {
    "execution": {
     "iopub.execute_input": "2024-01-19T20:05:48.461406Z",
     "iopub.status.busy": "2024-01-19T20:05:48.460612Z",
     "iopub.status.idle": "2024-01-19T20:05:48.470785Z",
     "shell.execute_reply": "2024-01-19T20:05:48.469560Z"
    },
    "papermill": {
     "duration": 0.026921,
     "end_time": "2024-01-19T20:05:48.473910",
     "exception": false,
     "start_time": "2024-01-19T20:05:48.446989",
     "status": "completed"
    },
    "tags": []
   },
   "outputs": [
    {
     "data": {
      "text/plain": [
       "PassengerId      0\n",
       "Survived         0\n",
       "Pclass           0\n",
       "Name             0\n",
       "Sex              0\n",
       "Age            177\n",
       "SibSp            0\n",
       "Parch            0\n",
       "Ticket           0\n",
       "Fare             0\n",
       "Cabin          687\n",
       "Embarked         2\n",
       "dtype: int64"
      ]
     },
     "execution_count": 5,
     "metadata": {},
     "output_type": "execute_result"
    }
   ],
   "source": [
    "train_data.isnull().sum()"
   ]
  },
  {
   "cell_type": "code",
   "execution_count": 6,
   "id": "ede1773c",
   "metadata": {
    "execution": {
     "iopub.execute_input": "2024-01-19T20:05:48.502065Z",
     "iopub.status.busy": "2024-01-19T20:05:48.501124Z",
     "iopub.status.idle": "2024-01-19T20:05:48.534494Z",
     "shell.execute_reply": "2024-01-19T20:05:48.533191Z"
    },
    "papermill": {
     "duration": 0.051698,
     "end_time": "2024-01-19T20:05:48.537660",
     "exception": false,
     "start_time": "2024-01-19T20:05:48.485962",
     "status": "completed"
    },
    "tags": []
   },
   "outputs": [
    {
     "data": {
      "text/html": [
       "<div>\n",
       "<style scoped>\n",
       "    .dataframe tbody tr th:only-of-type {\n",
       "        vertical-align: middle;\n",
       "    }\n",
       "\n",
       "    .dataframe tbody tr th {\n",
       "        vertical-align: top;\n",
       "    }\n",
       "\n",
       "    .dataframe thead th {\n",
       "        text-align: right;\n",
       "    }\n",
       "</style>\n",
       "<table border=\"1\" class=\"dataframe\">\n",
       "  <thead>\n",
       "    <tr style=\"text-align: right;\">\n",
       "      <th></th>\n",
       "      <th>PassengerId</th>\n",
       "      <th>Pclass</th>\n",
       "      <th>Name</th>\n",
       "      <th>Sex</th>\n",
       "      <th>Age</th>\n",
       "      <th>SibSp</th>\n",
       "      <th>Parch</th>\n",
       "      <th>Ticket</th>\n",
       "      <th>Fare</th>\n",
       "      <th>Cabin</th>\n",
       "      <th>Embarked</th>\n",
       "    </tr>\n",
       "  </thead>\n",
       "  <tbody>\n",
       "    <tr>\n",
       "      <th>0</th>\n",
       "      <td>892</td>\n",
       "      <td>3</td>\n",
       "      <td>Kelly, Mr. James</td>\n",
       "      <td>male</td>\n",
       "      <td>34.5</td>\n",
       "      <td>0</td>\n",
       "      <td>0</td>\n",
       "      <td>330911</td>\n",
       "      <td>7.8292</td>\n",
       "      <td>NaN</td>\n",
       "      <td>Q</td>\n",
       "    </tr>\n",
       "    <tr>\n",
       "      <th>1</th>\n",
       "      <td>893</td>\n",
       "      <td>3</td>\n",
       "      <td>Wilkes, Mrs. James (Ellen Needs)</td>\n",
       "      <td>female</td>\n",
       "      <td>47.0</td>\n",
       "      <td>1</td>\n",
       "      <td>0</td>\n",
       "      <td>363272</td>\n",
       "      <td>7.0000</td>\n",
       "      <td>NaN</td>\n",
       "      <td>S</td>\n",
       "    </tr>\n",
       "    <tr>\n",
       "      <th>2</th>\n",
       "      <td>894</td>\n",
       "      <td>2</td>\n",
       "      <td>Myles, Mr. Thomas Francis</td>\n",
       "      <td>male</td>\n",
       "      <td>62.0</td>\n",
       "      <td>0</td>\n",
       "      <td>0</td>\n",
       "      <td>240276</td>\n",
       "      <td>9.6875</td>\n",
       "      <td>NaN</td>\n",
       "      <td>Q</td>\n",
       "    </tr>\n",
       "    <tr>\n",
       "      <th>3</th>\n",
       "      <td>895</td>\n",
       "      <td>3</td>\n",
       "      <td>Wirz, Mr. Albert</td>\n",
       "      <td>male</td>\n",
       "      <td>27.0</td>\n",
       "      <td>0</td>\n",
       "      <td>0</td>\n",
       "      <td>315154</td>\n",
       "      <td>8.6625</td>\n",
       "      <td>NaN</td>\n",
       "      <td>S</td>\n",
       "    </tr>\n",
       "    <tr>\n",
       "      <th>4</th>\n",
       "      <td>896</td>\n",
       "      <td>3</td>\n",
       "      <td>Hirvonen, Mrs. Alexander (Helga E Lindqvist)</td>\n",
       "      <td>female</td>\n",
       "      <td>22.0</td>\n",
       "      <td>1</td>\n",
       "      <td>1</td>\n",
       "      <td>3101298</td>\n",
       "      <td>12.2875</td>\n",
       "      <td>NaN</td>\n",
       "      <td>S</td>\n",
       "    </tr>\n",
       "  </tbody>\n",
       "</table>\n",
       "</div>"
      ],
      "text/plain": [
       "   PassengerId  Pclass                                          Name     Sex  \\\n",
       "0          892       3                              Kelly, Mr. James    male   \n",
       "1          893       3              Wilkes, Mrs. James (Ellen Needs)  female   \n",
       "2          894       2                     Myles, Mr. Thomas Francis    male   \n",
       "3          895       3                              Wirz, Mr. Albert    male   \n",
       "4          896       3  Hirvonen, Mrs. Alexander (Helga E Lindqvist)  female   \n",
       "\n",
       "    Age  SibSp  Parch   Ticket     Fare Cabin Embarked  \n",
       "0  34.5      0      0   330911   7.8292   NaN        Q  \n",
       "1  47.0      1      0   363272   7.0000   NaN        S  \n",
       "2  62.0      0      0   240276   9.6875   NaN        Q  \n",
       "3  27.0      0      0   315154   8.6625   NaN        S  \n",
       "4  22.0      1      1  3101298  12.2875   NaN        S  "
      ]
     },
     "execution_count": 6,
     "metadata": {},
     "output_type": "execute_result"
    }
   ],
   "source": [
    "#Importing Testing dataset\n",
    "test_data = pd.read_csv(\"/kaggle/input/titanic/test.csv\")\n",
    "test_data.head()"
   ]
  },
  {
   "cell_type": "code",
   "execution_count": 7,
   "id": "9f0c87f1",
   "metadata": {
    "execution": {
     "iopub.execute_input": "2024-01-19T20:05:48.565565Z",
     "iopub.status.busy": "2024-01-19T20:05:48.564842Z",
     "iopub.status.idle": "2024-01-19T20:05:48.575494Z",
     "shell.execute_reply": "2024-01-19T20:05:48.574245Z"
    },
    "papermill": {
     "duration": 0.02692,
     "end_time": "2024-01-19T20:05:48.578112",
     "exception": false,
     "start_time": "2024-01-19T20:05:48.551192",
     "status": "completed"
    },
    "tags": []
   },
   "outputs": [
    {
     "name": "stdout",
     "output_type": "stream",
     "text": [
      "% of women who survived: 0.7420382165605095\n"
     ]
    }
   ],
   "source": [
    "women = train_data.loc[train_data.Sex == 'female'][\"Survived\"]\n",
    "rate_women = sum(women)/len(women)\n",
    "print(\"% of women who survived:\", rate_women)"
   ]
  },
  {
   "cell_type": "code",
   "execution_count": 8,
   "id": "79fe999b",
   "metadata": {
    "execution": {
     "iopub.execute_input": "2024-01-19T20:05:48.606192Z",
     "iopub.status.busy": "2024-01-19T20:05:48.605806Z",
     "iopub.status.idle": "2024-01-19T20:05:48.615073Z",
     "shell.execute_reply": "2024-01-19T20:05:48.613439Z"
    },
    "papermill": {
     "duration": 0.02671,
     "end_time": "2024-01-19T20:05:48.618052",
     "exception": false,
     "start_time": "2024-01-19T20:05:48.591342",
     "status": "completed"
    },
    "tags": []
   },
   "outputs": [
    {
     "name": "stdout",
     "output_type": "stream",
     "text": [
      "% of men who survived: 0.18890814558058924\n"
     ]
    }
   ],
   "source": [
    "men = train_data.loc[train_data.Sex == 'male'][\"Survived\"]\n",
    "rate_men = sum(men)/len(men)\n",
    "print(\"% of men who survived:\", rate_men)"
   ]
  },
  {
   "cell_type": "code",
   "execution_count": 9,
   "id": "c333263c",
   "metadata": {
    "execution": {
     "iopub.execute_input": "2024-01-19T20:05:48.646492Z",
     "iopub.status.busy": "2024-01-19T20:05:48.645706Z",
     "iopub.status.idle": "2024-01-19T20:05:48.654402Z",
     "shell.execute_reply": "2024-01-19T20:05:48.653265Z"
    },
    "papermill": {
     "duration": 0.026254,
     "end_time": "2024-01-19T20:05:48.657251",
     "exception": false,
     "start_time": "2024-01-19T20:05:48.630997",
     "status": "completed"
    },
    "tags": []
   },
   "outputs": [],
   "source": [
    "#Droping cabin feature as it has a lot of missing values\n",
    "train_data = train_data.drop(['Cabin'],axis=1) "
   ]
  },
  {
   "cell_type": "code",
   "execution_count": 10,
   "id": "0a10401f",
   "metadata": {
    "execution": {
     "iopub.execute_input": "2024-01-19T20:05:48.687043Z",
     "iopub.status.busy": "2024-01-19T20:05:48.685835Z",
     "iopub.status.idle": "2024-01-19T20:05:48.697355Z",
     "shell.execute_reply": "2024-01-19T20:05:48.696172Z"
    },
    "papermill": {
     "duration": 0.030313,
     "end_time": "2024-01-19T20:05:48.699950",
     "exception": false,
     "start_time": "2024-01-19T20:05:48.669637",
     "status": "completed"
    },
    "tags": []
   },
   "outputs": [
    {
     "data": {
      "text/plain": [
       "Age            177\n",
       "Embarked         2\n",
       "PassengerId      0\n",
       "Survived         0\n",
       "Pclass           0\n",
       "Name             0\n",
       "Sex              0\n",
       "SibSp            0\n",
       "Parch            0\n",
       "Ticket           0\n",
       "Fare             0\n",
       "dtype: int64"
      ]
     },
     "execution_count": 10,
     "metadata": {},
     "output_type": "execute_result"
    }
   ],
   "source": [
    "train_data.isnull().sum().sort_values(ascending=False)"
   ]
  },
  {
   "cell_type": "code",
   "execution_count": 11,
   "id": "245571c1",
   "metadata": {
    "execution": {
     "iopub.execute_input": "2024-01-19T20:05:48.728522Z",
     "iopub.status.busy": "2024-01-19T20:05:48.728073Z",
     "iopub.status.idle": "2024-01-19T20:05:48.746067Z",
     "shell.execute_reply": "2024-01-19T20:05:48.744924Z"
    },
    "papermill": {
     "duration": 0.035222,
     "end_time": "2024-01-19T20:05:48.748542",
     "exception": false,
     "start_time": "2024-01-19T20:05:48.713320",
     "status": "completed"
    },
    "tags": []
   },
   "outputs": [],
   "source": [
    "#Filling Null Values\n",
    "for col_name in train_data.columns:\n",
    "    if train_data[col_name].dtypes=='object':\n",
    "        train_data[col_name] = train_data[col_name].fillna(train_data[col_name].mode()[0])\n",
    "    else:\n",
    "        train_data[col_name] = train_data[col_name].fillna(train_data[col_name].mean())"
   ]
  },
  {
   "cell_type": "code",
   "execution_count": 12,
   "id": "f01f0be9",
   "metadata": {
    "execution": {
     "iopub.execute_input": "2024-01-19T20:05:48.775394Z",
     "iopub.status.busy": "2024-01-19T20:05:48.774964Z",
     "iopub.status.idle": "2024-01-19T20:05:48.786577Z",
     "shell.execute_reply": "2024-01-19T20:05:48.785415Z"
    },
    "papermill": {
     "duration": 0.027941,
     "end_time": "2024-01-19T20:05:48.789000",
     "exception": false,
     "start_time": "2024-01-19T20:05:48.761059",
     "status": "completed"
    },
    "tags": []
   },
   "outputs": [
    {
     "data": {
      "text/plain": [
       "PassengerId    0\n",
       "Survived       0\n",
       "Pclass         0\n",
       "Name           0\n",
       "Sex            0\n",
       "Age            0\n",
       "SibSp          0\n",
       "Parch          0\n",
       "Ticket         0\n",
       "Fare           0\n",
       "Embarked       0\n",
       "dtype: int64"
      ]
     },
     "execution_count": 12,
     "metadata": {},
     "output_type": "execute_result"
    }
   ],
   "source": [
    "train_data.isnull().sum().sort_values(ascending=False)"
   ]
  },
  {
   "cell_type": "code",
   "execution_count": 13,
   "id": "267d59ee",
   "metadata": {
    "execution": {
     "iopub.execute_input": "2024-01-19T20:05:48.816964Z",
     "iopub.status.busy": "2024-01-19T20:05:48.816566Z",
     "iopub.status.idle": "2024-01-19T20:05:48.853902Z",
     "shell.execute_reply": "2024-01-19T20:05:48.852947Z"
    },
    "papermill": {
     "duration": 0.054993,
     "end_time": "2024-01-19T20:05:48.856489",
     "exception": false,
     "start_time": "2024-01-19T20:05:48.801496",
     "status": "completed"
    },
    "tags": []
   },
   "outputs": [
    {
     "data": {
      "text/html": [
       "<div>\n",
       "<style scoped>\n",
       "    .dataframe tbody tr th:only-of-type {\n",
       "        vertical-align: middle;\n",
       "    }\n",
       "\n",
       "    .dataframe tbody tr th {\n",
       "        vertical-align: top;\n",
       "    }\n",
       "\n",
       "    .dataframe thead th {\n",
       "        text-align: right;\n",
       "    }\n",
       "</style>\n",
       "<table border=\"1\" class=\"dataframe\">\n",
       "  <thead>\n",
       "    <tr style=\"text-align: right;\">\n",
       "      <th></th>\n",
       "      <th>PassengerId</th>\n",
       "      <th>Survived</th>\n",
       "      <th>Pclass</th>\n",
       "      <th>Age</th>\n",
       "      <th>SibSp</th>\n",
       "      <th>Parch</th>\n",
       "      <th>Fare</th>\n",
       "    </tr>\n",
       "  </thead>\n",
       "  <tbody>\n",
       "    <tr>\n",
       "      <th>count</th>\n",
       "      <td>891.000000</td>\n",
       "      <td>891.000000</td>\n",
       "      <td>891.000000</td>\n",
       "      <td>891.000000</td>\n",
       "      <td>891.000000</td>\n",
       "      <td>891.000000</td>\n",
       "      <td>891.000000</td>\n",
       "    </tr>\n",
       "    <tr>\n",
       "      <th>mean</th>\n",
       "      <td>446.000000</td>\n",
       "      <td>0.383838</td>\n",
       "      <td>2.308642</td>\n",
       "      <td>29.699118</td>\n",
       "      <td>0.523008</td>\n",
       "      <td>0.381594</td>\n",
       "      <td>32.204208</td>\n",
       "    </tr>\n",
       "    <tr>\n",
       "      <th>std</th>\n",
       "      <td>257.353842</td>\n",
       "      <td>0.486592</td>\n",
       "      <td>0.836071</td>\n",
       "      <td>13.002015</td>\n",
       "      <td>1.102743</td>\n",
       "      <td>0.806057</td>\n",
       "      <td>49.693429</td>\n",
       "    </tr>\n",
       "    <tr>\n",
       "      <th>min</th>\n",
       "      <td>1.000000</td>\n",
       "      <td>0.000000</td>\n",
       "      <td>1.000000</td>\n",
       "      <td>0.420000</td>\n",
       "      <td>0.000000</td>\n",
       "      <td>0.000000</td>\n",
       "      <td>0.000000</td>\n",
       "    </tr>\n",
       "    <tr>\n",
       "      <th>25%</th>\n",
       "      <td>223.500000</td>\n",
       "      <td>0.000000</td>\n",
       "      <td>2.000000</td>\n",
       "      <td>22.000000</td>\n",
       "      <td>0.000000</td>\n",
       "      <td>0.000000</td>\n",
       "      <td>7.910400</td>\n",
       "    </tr>\n",
       "    <tr>\n",
       "      <th>50%</th>\n",
       "      <td>446.000000</td>\n",
       "      <td>0.000000</td>\n",
       "      <td>3.000000</td>\n",
       "      <td>29.699118</td>\n",
       "      <td>0.000000</td>\n",
       "      <td>0.000000</td>\n",
       "      <td>14.454200</td>\n",
       "    </tr>\n",
       "    <tr>\n",
       "      <th>75%</th>\n",
       "      <td>668.500000</td>\n",
       "      <td>1.000000</td>\n",
       "      <td>3.000000</td>\n",
       "      <td>35.000000</td>\n",
       "      <td>1.000000</td>\n",
       "      <td>0.000000</td>\n",
       "      <td>31.000000</td>\n",
       "    </tr>\n",
       "    <tr>\n",
       "      <th>max</th>\n",
       "      <td>891.000000</td>\n",
       "      <td>1.000000</td>\n",
       "      <td>3.000000</td>\n",
       "      <td>80.000000</td>\n",
       "      <td>8.000000</td>\n",
       "      <td>6.000000</td>\n",
       "      <td>512.329200</td>\n",
       "    </tr>\n",
       "  </tbody>\n",
       "</table>\n",
       "</div>"
      ],
      "text/plain": [
       "       PassengerId    Survived      Pclass         Age       SibSp  \\\n",
       "count   891.000000  891.000000  891.000000  891.000000  891.000000   \n",
       "mean    446.000000    0.383838    2.308642   29.699118    0.523008   \n",
       "std     257.353842    0.486592    0.836071   13.002015    1.102743   \n",
       "min       1.000000    0.000000    1.000000    0.420000    0.000000   \n",
       "25%     223.500000    0.000000    2.000000   22.000000    0.000000   \n",
       "50%     446.000000    0.000000    3.000000   29.699118    0.000000   \n",
       "75%     668.500000    1.000000    3.000000   35.000000    1.000000   \n",
       "max     891.000000    1.000000    3.000000   80.000000    8.000000   \n",
       "\n",
       "            Parch        Fare  \n",
       "count  891.000000  891.000000  \n",
       "mean     0.381594   32.204208  \n",
       "std      0.806057   49.693429  \n",
       "min      0.000000    0.000000  \n",
       "25%      0.000000    7.910400  \n",
       "50%      0.000000   14.454200  \n",
       "75%      0.000000   31.000000  \n",
       "max      6.000000  512.329200  "
      ]
     },
     "execution_count": 13,
     "metadata": {},
     "output_type": "execute_result"
    }
   ],
   "source": [
    "train_data.describe() "
   ]
  },
  {
   "cell_type": "code",
   "execution_count": 14,
   "id": "3589e527",
   "metadata": {
    "execution": {
     "iopub.execute_input": "2024-01-19T20:05:48.886140Z",
     "iopub.status.busy": "2024-01-19T20:05:48.884913Z",
     "iopub.status.idle": "2024-01-19T20:05:48.894266Z",
     "shell.execute_reply": "2024-01-19T20:05:48.892961Z"
    },
    "papermill": {
     "duration": 0.026126,
     "end_time": "2024-01-19T20:05:48.896651",
     "exception": false,
     "start_time": "2024-01-19T20:05:48.870525",
     "status": "completed"
    },
    "tags": []
   },
   "outputs": [
    {
     "data": {
      "text/plain": [
       "Survived\n",
       "0    549\n",
       "1    342\n",
       "Name: count, dtype: int64"
      ]
     },
     "execution_count": 14,
     "metadata": {},
     "output_type": "execute_result"
    }
   ],
   "source": [
    "#Checking how many people survived\n",
    "train_data['Survived'].value_counts() "
   ]
  },
  {
   "cell_type": "code",
   "execution_count": 15,
   "id": "eda4bbdf",
   "metadata": {
    "execution": {
     "iopub.execute_input": "2024-01-19T20:05:48.924765Z",
     "iopub.status.busy": "2024-01-19T20:05:48.924306Z",
     "iopub.status.idle": "2024-01-19T20:05:49.271598Z",
     "shell.execute_reply": "2024-01-19T20:05:49.270153Z"
    },
    "papermill": {
     "duration": 0.36464,
     "end_time": "2024-01-19T20:05:49.274417",
     "exception": false,
     "start_time": "2024-01-19T20:05:48.909777",
     "status": "completed"
    },
    "tags": []
   },
   "outputs": [
    {
     "data": {
      "text/plain": [
       "<Axes: xlabel='Sex', ylabel='count'>"
      ]
     },
     "execution_count": 15,
     "metadata": {},
     "output_type": "execute_result"
    },
    {
     "data": {
      "image/png": "[encoded data removed]",
      "text/plain": [
       "<Figure size 640x480 with 1 Axes>"
      ]
     },
     "metadata": {},
     "output_type": "display_data"
    }
   ],
   "source": [
    "sns.countplot(x='Sex',hue = 'Survived', data=train_data)"
   ]
  },
  {
   "cell_type": "code",
   "execution_count": 16,
   "id": "db39592f",
   "metadata": {
    "execution": {
     "iopub.execute_input": "2024-01-19T20:05:49.305633Z",
     "iopub.status.busy": "2024-01-19T20:05:49.304312Z",
     "iopub.status.idle": "2024-01-19T20:05:49.645175Z",
     "shell.execute_reply": "2024-01-19T20:05:49.644056Z"
    },
    "papermill": {
     "duration": 0.358908,
     "end_time": "2024-01-19T20:05:49.647898",
     "exception": false,
     "start_time": "2024-01-19T20:05:49.288990",
     "status": "completed"
    },
    "tags": []
   },
   "outputs": [
    {
     "data": {
      "text/plain": [
       "<Axes: xlabel='Pclass', ylabel='count'>"
      ]
     },
     "execution_count": 16,
     "metadata": {},
     "output_type": "execute_result"
    },
    {
     "data": {
      "image/png": "[encoded data removed]",
      "text/plain": [
       "<Figure size 640x480 with 1 Axes>"
      ]
     },
     "metadata": {},
     "output_type": "display_data"
    }
   ],
   "source": [
    "sns.countplot(x='Pclass',hue = 'Survived', data=train_data)"
   ]
  },
  {
   "cell_type": "code",
   "execution_count": 17,
   "id": "672ccc21",
   "metadata": {
    "execution": {
     "iopub.execute_input": "2024-01-19T20:05:49.678574Z",
     "iopub.status.busy": "2024-01-19T20:05:49.678151Z",
     "iopub.status.idle": "2024-01-19T20:05:55.108998Z",
     "shell.execute_reply": "2024-01-19T20:05:55.107849Z"
    },
    "papermill": {
     "duration": 5.450003,
     "end_time": "2024-01-19T20:05:55.112537",
     "exception": false,
     "start_time": "2024-01-19T20:05:49.662534",
     "status": "completed"
    },
    "tags": []
   },
   "outputs": [
    {
     "name": "stderr",
     "output_type": "stream",
     "text": [
      "/opt/conda/lib/python3.10/site-packages/seaborn/categorical.py:3544: UserWarning: 16.7% of the points cannot be placed; you may want to decrease the size of the markers or use stripplot.\n",
      "  warnings.warn(msg, UserWarning)\n"
     ]
    },
    {
     "data": {
      "text/plain": [
       "<Axes: xlabel='Survived', ylabel='Age'>"
      ]
     },
     "execution_count": 17,
     "metadata": {},
     "output_type": "execute_result"
    },
    {
     "name": "stderr",
     "output_type": "stream",
     "text": [
      "/opt/conda/lib/python3.10/site-packages/seaborn/categorical.py:3544: UserWarning: 18.8% of the points cannot be placed; you may want to decrease the size of the markers or use stripplot.\n",
      "  warnings.warn(msg, UserWarning)\n",
      "/opt/conda/lib/python3.10/site-packages/seaborn/categorical.py:3544: UserWarning: 5.2% of the points cannot be placed; you may want to decrease the size of the markers or use stripplot.\n",
      "  warnings.warn(msg, UserWarning)\n"
     ]
    },
    {
     "data": {
      "image/png": "[encoded data removed]",
      "text/plain": [
       "<Figure size 800x800 with 1 Axes>"
      ]
     },
     "metadata": {},
     "output_type": "display_data"
    }
   ],
   "source": [
    "plt.figure(figsize=(8,8))\n",
    "sns.swarmplot(data=train_data, x='Survived',y='Age', hue='Sex', dodge=True)"
   ]
  },
  {
   "cell_type": "code",
   "execution_count": 18,
   "id": "e5cab803",
   "metadata": {
    "execution": {
     "iopub.execute_input": "2024-01-19T20:05:55.149974Z",
     "iopub.status.busy": "2024-01-19T20:05:55.149440Z",
     "iopub.status.idle": "2024-01-19T20:05:55.164616Z",
     "shell.execute_reply": "2024-01-19T20:05:55.162790Z"
    },
    "papermill": {
     "duration": 0.037397,
     "end_time": "2024-01-19T20:05:55.167326",
     "exception": false,
     "start_time": "2024-01-19T20:05:55.129929",
     "status": "completed"
    },
    "tags": []
   },
   "outputs": [],
   "source": [
    "#Label Encoding\n",
    "from sklearn.preprocessing import LabelEncoder \n",
    "labelencoder = LabelEncoder()\n",
    "for col_name in train_data.columns:\n",
    "    if train_data[col_name].dtypes=='object':\n",
    "        train_data[col_name]=labelencoder.fit_transform(train_data[col_name])"
   ]
  },
  {
   "cell_type": "code",
   "execution_count": 19,
   "id": "d6d1a5b8",
   "metadata": {
    "execution": {
     "iopub.execute_input": "2024-01-19T20:05:55.202584Z",
     "iopub.status.busy": "2024-01-19T20:05:55.202083Z",
     "iopub.status.idle": "2024-01-19T20:05:56.014361Z",
     "shell.execute_reply": "2024-01-19T20:05:56.013209Z"
    },
    "papermill": {
     "duration": 0.833182,
     "end_time": "2024-01-19T20:05:56.017220",
     "exception": false,
     "start_time": "2024-01-19T20:05:55.184038",
     "status": "completed"
    },
    "tags": []
   },
   "outputs": [
    {
     "data": {
      "image/png": "[encoded data removed]",
      "text/plain": [
       "<Figure size 1800x800 with 2 Axes>"
      ]
     },
     "metadata": {},
     "output_type": "display_data"
    }
   ],
   "source": [
    "#Heatmap with feature correlation:\n",
    "plt.figure(figsize=(18,8))\n",
    "corr = train_data.corr()\n",
    "sns.heatmap(corr,vmax=1.0,annot=True)\n",
    "plt.title('Correlation Matrix',fontsize=16)\n",
    "plt.show()"
   ]
  },
  {
   "cell_type": "code",
   "execution_count": 20,
   "id": "21601fb4",
   "metadata": {
    "execution": {
     "iopub.execute_input": "2024-01-19T20:05:56.056299Z",
     "iopub.status.busy": "2024-01-19T20:05:56.055899Z",
     "iopub.status.idle": "2024-01-19T20:05:56.063663Z",
     "shell.execute_reply": "2024-01-19T20:05:56.062272Z"
    },
    "papermill": {
     "duration": 0.030186,
     "end_time": "2024-01-19T20:05:56.066268",
     "exception": false,
     "start_time": "2024-01-19T20:05:56.036082",
     "status": "completed"
    },
    "tags": []
   },
   "outputs": [],
   "source": [
    "#Model Building\n",
    "X = train_data.drop(['Survived','PassengerId','Fare'], axis=1) \n",
    "y = train_data['Survived']"
   ]
  },
  {
   "cell_type": "code",
   "execution_count": 21,
   "id": "66a8c3cc",
   "metadata": {
    "execution": {
     "iopub.execute_input": "2024-01-19T20:05:56.106796Z",
     "iopub.status.busy": "2024-01-19T20:05:56.106372Z",
     "iopub.status.idle": "2024-01-19T20:05:56.116255Z",
     "shell.execute_reply": "2024-01-19T20:05:56.114805Z"
    },
    "papermill": {
     "duration": 0.033902,
     "end_time": "2024-01-19T20:05:56.119120",
     "exception": false,
     "start_time": "2024-01-19T20:05:56.085218",
     "status": "completed"
    },
    "tags": []
   },
   "outputs": [],
   "source": [
    "#Data Splitting\n",
    "from sklearn.model_selection import train_test_split \n",
    "X_train, X_valid, y_train, y_valid = train_test_split(X, y, test_size= 0.2, random_state=42)"
   ]
  },
  {
   "cell_type": "code",
   "execution_count": 22,
   "id": "8e10c7a5",
   "metadata": {
    "execution": {
     "iopub.execute_input": "2024-01-19T20:05:56.159670Z",
     "iopub.status.busy": "2024-01-19T20:05:56.159143Z",
     "iopub.status.idle": "2024-01-19T20:05:56.276346Z",
     "shell.execute_reply": "2024-01-19T20:05:56.274784Z"
    },
    "papermill": {
     "duration": 0.141484,
     "end_time": "2024-01-19T20:05:56.279808",
     "exception": false,
     "start_time": "2024-01-19T20:05:56.138324",
     "status": "completed"
    },
    "tags": []
   },
   "outputs": [
    {
     "name": "stdout",
     "output_type": "stream",
     "text": [
      "model Accuracy :  82.12290502793296\n"
     ]
    }
   ],
   "source": [
    "#Logistic Regression Model\n",
    "l_model=LogisticRegression(random_state=42, max_iter=1000) \n",
    "l_model.fit(X_train, y_train)\n",
    "lr_pred=l_model.predict(X_valid)\n",
    "acc = accuracy_score(y_valid,lr_pred)*100\n",
    "print(\"model Accuracy : \",acc)"
   ]
  },
  {
   "cell_type": "code",
   "execution_count": 23,
   "id": "4bfe3cb5",
   "metadata": {
    "execution": {
     "iopub.execute_input": "2024-01-19T20:05:56.328119Z",
     "iopub.status.busy": "2024-01-19T20:05:56.326683Z",
     "iopub.status.idle": "2024-01-19T20:05:56.717311Z",
     "shell.execute_reply": "2024-01-19T20:05:56.716168Z"
    },
    "papermill": {
     "duration": 0.415159,
     "end_time": "2024-01-19T20:05:56.719976",
     "exception": false,
     "start_time": "2024-01-19T20:05:56.304817",
     "status": "completed"
    },
    "tags": []
   },
   "outputs": [
    {
     "name": "stdout",
     "output_type": "stream",
     "text": [
      "rf_acc: 82.68156424581005\n"
     ]
    }
   ],
   "source": [
    "#Random Forest Classifier Model\n",
    "from sklearn.ensemble import RandomForestClassifier\n",
    "model_rf = RandomForestClassifier(random_state=42, n_estimators=50)\n",
    "model_rf.fit(X_train, y_train)\n",
    "rf_pred=model_rf.predict(X_valid)\n",
    "rf_acc = accuracy_score(y_valid, rf_pred)*100\n",
    "print(\"rf_acc:\",rf_acc)"
   ]
  },
  {
   "cell_type": "code",
   "execution_count": 24,
   "id": "a777ce4f",
   "metadata": {
    "execution": {
     "iopub.execute_input": "2024-01-19T20:05:56.763851Z",
     "iopub.status.busy": "2024-01-19T20:05:56.761936Z",
     "iopub.status.idle": "2024-01-19T20:05:56.779072Z",
     "shell.execute_reply": "2024-01-19T20:05:56.777972Z"
    },
    "papermill": {
     "duration": 0.043059,
     "end_time": "2024-01-19T20:05:56.783123",
     "exception": false,
     "start_time": "2024-01-19T20:05:56.740064",
     "status": "completed"
    },
    "tags": []
   },
   "outputs": [
    {
     "data": {
      "text/html": [
       "<div>\n",
       "<style scoped>\n",
       "    .dataframe tbody tr th:only-of-type {\n",
       "        vertical-align: middle;\n",
       "    }\n",
       "\n",
       "    .dataframe tbody tr th {\n",
       "        vertical-align: top;\n",
       "    }\n",
       "\n",
       "    .dataframe thead th {\n",
       "        text-align: right;\n",
       "    }\n",
       "</style>\n",
       "<table border=\"1\" class=\"dataframe\">\n",
       "  <thead>\n",
       "    <tr style=\"text-align: right;\">\n",
       "      <th></th>\n",
       "      <th>model</th>\n",
       "      <th>Accuracy</th>\n",
       "    </tr>\n",
       "  </thead>\n",
       "  <tbody>\n",
       "    <tr>\n",
       "      <th>0</th>\n",
       "      <td>LogisticRegression</td>\n",
       "      <td>82.122905</td>\n",
       "    </tr>\n",
       "    <tr>\n",
       "      <th>1</th>\n",
       "      <td>RandomForestClassifier</td>\n",
       "      <td>82.681564</td>\n",
       "    </tr>\n",
       "  </tbody>\n",
       "</table>\n",
       "</div>"
      ],
      "text/plain": [
       "                    model   Accuracy\n",
       "0      LogisticRegression  82.122905\n",
       "1  RandomForestClassifier  82.681564"
      ]
     },
     "execution_count": 24,
     "metadata": {},
     "output_type": "execute_result"
    }
   ],
   "source": [
    "#Comparing 2 Models\n",
    "compare = {'model':['LogisticRegression','RandomForestClassifier'], \n",
    "           'Accuracy':[acc,rf_acc]}\n",
    "compare_df = pd.DataFrame(compare)\n",
    "compare_df"
   ]
  },
  {
   "cell_type": "code",
   "execution_count": 25,
   "id": "ae9f21cd",
   "metadata": {
    "execution": {
     "iopub.execute_input": "2024-01-19T20:05:56.903210Z",
     "iopub.status.busy": "2024-01-19T20:05:56.902252Z",
     "iopub.status.idle": "2024-01-19T20:05:57.145686Z",
     "shell.execute_reply": "2024-01-19T20:05:57.144411Z"
    },
    "papermill": {
     "duration": 0.269651,
     "end_time": "2024-01-19T20:05:57.149488",
     "exception": false,
     "start_time": "2024-01-19T20:05:56.879837",
     "status": "completed"
    },
    "tags": []
   },
   "outputs": [
    {
     "data": {
      "image/png": "[encoded data removed]",
      "text/plain": [
       "<Figure size 400x500 with 1 Axes>"
      ]
     },
     "metadata": {},
     "output_type": "display_data"
    }
   ],
   "source": [
    "plt.figure(figsize=(4,5))\n",
    "sns.barplot(x='model',y='Accuracy',data=compare_df)\n",
    "plt.show()"
   ]
  },
  {
   "cell_type": "code",
   "execution_count": 26,
   "id": "6896fd8c",
   "metadata": {
    "execution": {
     "iopub.execute_input": "2024-01-19T20:05:57.190731Z",
     "iopub.status.busy": "2024-01-19T20:05:57.190296Z",
     "iopub.status.idle": "2024-01-19T20:05:57.209826Z",
     "shell.execute_reply": "2024-01-19T20:05:57.208291Z"
    },
    "papermill": {
     "duration": 0.043628,
     "end_time": "2024-01-19T20:05:57.212578",
     "exception": false,
     "start_time": "2024-01-19T20:05:57.168950",
     "status": "completed"
    },
    "tags": []
   },
   "outputs": [
    {
     "data": {
      "text/html": [
       "<div>\n",
       "<style scoped>\n",
       "    .dataframe tbody tr th:only-of-type {\n",
       "        vertical-align: middle;\n",
       "    }\n",
       "\n",
       "    .dataframe tbody tr th {\n",
       "        vertical-align: top;\n",
       "    }\n",
       "\n",
       "    .dataframe thead th {\n",
       "        text-align: right;\n",
       "    }\n",
       "</style>\n",
       "<table border=\"1\" class=\"dataframe\">\n",
       "  <thead>\n",
       "    <tr style=\"text-align: right;\">\n",
       "      <th></th>\n",
       "      <th>PassengerId</th>\n",
       "      <th>Pclass</th>\n",
       "      <th>Name</th>\n",
       "      <th>Sex</th>\n",
       "      <th>Age</th>\n",
       "      <th>SibSp</th>\n",
       "      <th>Parch</th>\n",
       "      <th>Ticket</th>\n",
       "      <th>Fare</th>\n",
       "      <th>Cabin</th>\n",
       "      <th>Embarked</th>\n",
       "    </tr>\n",
       "  </thead>\n",
       "  <tbody>\n",
       "    <tr>\n",
       "      <th>0</th>\n",
       "      <td>892</td>\n",
       "      <td>3</td>\n",
       "      <td>Kelly, Mr. James</td>\n",
       "      <td>male</td>\n",
       "      <td>34.5</td>\n",
       "      <td>0</td>\n",
       "      <td>0</td>\n",
       "      <td>330911</td>\n",
       "      <td>7.8292</td>\n",
       "      <td>NaN</td>\n",
       "      <td>Q</td>\n",
       "    </tr>\n",
       "    <tr>\n",
       "      <th>1</th>\n",
       "      <td>893</td>\n",
       "      <td>3</td>\n",
       "      <td>Wilkes, Mrs. James (Ellen Needs)</td>\n",
       "      <td>female</td>\n",
       "      <td>47.0</td>\n",
       "      <td>1</td>\n",
       "      <td>0</td>\n",
       "      <td>363272</td>\n",
       "      <td>7.0000</td>\n",
       "      <td>NaN</td>\n",
       "      <td>S</td>\n",
       "    </tr>\n",
       "    <tr>\n",
       "      <th>2</th>\n",
       "      <td>894</td>\n",
       "      <td>2</td>\n",
       "      <td>Myles, Mr. Thomas Francis</td>\n",
       "      <td>male</td>\n",
       "      <td>62.0</td>\n",
       "      <td>0</td>\n",
       "      <td>0</td>\n",
       "      <td>240276</td>\n",
       "      <td>9.6875</td>\n",
       "      <td>NaN</td>\n",
       "      <td>Q</td>\n",
       "    </tr>\n",
       "    <tr>\n",
       "      <th>3</th>\n",
       "      <td>895</td>\n",
       "      <td>3</td>\n",
       "      <td>Wirz, Mr. Albert</td>\n",
       "      <td>male</td>\n",
       "      <td>27.0</td>\n",
       "      <td>0</td>\n",
       "      <td>0</td>\n",
       "      <td>315154</td>\n",
       "      <td>8.6625</td>\n",
       "      <td>NaN</td>\n",
       "      <td>S</td>\n",
       "    </tr>\n",
       "    <tr>\n",
       "      <th>4</th>\n",
       "      <td>896</td>\n",
       "      <td>3</td>\n",
       "      <td>Hirvonen, Mrs. Alexander (Helga E Lindqvist)</td>\n",
       "      <td>female</td>\n",
       "      <td>22.0</td>\n",
       "      <td>1</td>\n",
       "      <td>1</td>\n",
       "      <td>3101298</td>\n",
       "      <td>12.2875</td>\n",
       "      <td>NaN</td>\n",
       "      <td>S</td>\n",
       "    </tr>\n",
       "  </tbody>\n",
       "</table>\n",
       "</div>"
      ],
      "text/plain": [
       "   PassengerId  Pclass                                          Name     Sex  \\\n",
       "0          892       3                              Kelly, Mr. James    male   \n",
       "1          893       3              Wilkes, Mrs. James (Ellen Needs)  female   \n",
       "2          894       2                     Myles, Mr. Thomas Francis    male   \n",
       "3          895       3                              Wirz, Mr. Albert    male   \n",
       "4          896       3  Hirvonen, Mrs. Alexander (Helga E Lindqvist)  female   \n",
       "\n",
       "    Age  SibSp  Parch   Ticket     Fare Cabin Embarked  \n",
       "0  34.5      0      0   330911   7.8292   NaN        Q  \n",
       "1  47.0      1      0   363272   7.0000   NaN        S  \n",
       "2  62.0      0      0   240276   9.6875   NaN        Q  \n",
       "3  27.0      0      0   315154   8.6625   NaN        S  \n",
       "4  22.0      1      1  3101298  12.2875   NaN        S  "
      ]
     },
     "execution_count": 26,
     "metadata": {},
     "output_type": "execute_result"
    }
   ],
   "source": [
    "#Testing Data\n",
    "test_data.head() "
   ]
  },
  {
   "cell_type": "code",
   "execution_count": 27,
   "id": "dc510369",
   "metadata": {
    "execution": {
     "iopub.execute_input": "2024-01-19T20:05:57.258670Z",
     "iopub.status.busy": "2024-01-19T20:05:57.258233Z",
     "iopub.status.idle": "2024-01-19T20:05:57.269330Z",
     "shell.execute_reply": "2024-01-19T20:05:57.267729Z"
    },
    "papermill": {
     "duration": 0.037379,
     "end_time": "2024-01-19T20:05:57.272542",
     "exception": false,
     "start_time": "2024-01-19T20:05:57.235163",
     "status": "completed"
    },
    "tags": []
   },
   "outputs": [
    {
     "data": {
      "text/plain": [
       "Cabin          327\n",
       "Age             86\n",
       "Fare             1\n",
       "PassengerId      0\n",
       "Pclass           0\n",
       "Name             0\n",
       "Sex              0\n",
       "SibSp            0\n",
       "Parch            0\n",
       "Ticket           0\n",
       "Embarked         0\n",
       "dtype: int64"
      ]
     },
     "execution_count": 27,
     "metadata": {},
     "output_type": "execute_result"
    }
   ],
   "source": [
    "#Checking Null Values in Test Data\n",
    "test_data.isnull().sum().sort_values(ascending=False) "
   ]
  },
  {
   "cell_type": "code",
   "execution_count": 28,
   "id": "977c4332",
   "metadata": {
    "execution": {
     "iopub.execute_input": "2024-01-19T20:05:57.317098Z",
     "iopub.status.busy": "2024-01-19T20:05:57.316334Z",
     "iopub.status.idle": "2024-01-19T20:05:57.323833Z",
     "shell.execute_reply": "2024-01-19T20:05:57.322389Z"
    },
    "papermill": {
     "duration": 0.033402,
     "end_time": "2024-01-19T20:05:57.326478",
     "exception": false,
     "start_time": "2024-01-19T20:05:57.293076",
     "status": "completed"
    },
    "tags": []
   },
   "outputs": [],
   "source": [
    "test_data = test_data.drop(['Cabin'],axis=1)"
   ]
  },
  {
   "cell_type": "code",
   "execution_count": 29,
   "id": "96085fc3",
   "metadata": {
    "execution": {
     "iopub.execute_input": "2024-01-19T20:05:57.369401Z",
     "iopub.status.busy": "2024-01-19T20:05:57.368588Z",
     "iopub.status.idle": "2024-01-19T20:05:57.382904Z",
     "shell.execute_reply": "2024-01-19T20:05:57.381107Z"
    },
    "papermill": {
     "duration": 0.039423,
     "end_time": "2024-01-19T20:05:57.386187",
     "exception": false,
     "start_time": "2024-01-19T20:05:57.346764",
     "status": "completed"
    },
    "tags": []
   },
   "outputs": [],
   "source": [
    "#Filling Null Values\n",
    "for col_name in test_data.columns: \n",
    "    if test_data[col_name].dtypes=='object':\n",
    "        test_data[col_name] = test_data[col_name].fillna(test_data[col_name].mode()[0])\n",
    "    else:\n",
    "        test_data[col_name] = test_data[col_name].fillna(test_data[col_name].mean())"
   ]
  },
  {
   "cell_type": "code",
   "execution_count": 30,
   "id": "c1367467",
   "metadata": {
    "execution": {
     "iopub.execute_input": "2024-01-19T20:05:57.431254Z",
     "iopub.status.busy": "2024-01-19T20:05:57.430609Z",
     "iopub.status.idle": "2024-01-19T20:05:57.441231Z",
     "shell.execute_reply": "2024-01-19T20:05:57.439690Z"
    },
    "papermill": {
     "duration": 0.036055,
     "end_time": "2024-01-19T20:05:57.443892",
     "exception": false,
     "start_time": "2024-01-19T20:05:57.407837",
     "status": "completed"
    },
    "tags": []
   },
   "outputs": [
    {
     "data": {
      "text/plain": [
       "PassengerId    0\n",
       "Pclass         0\n",
       "Name           0\n",
       "Sex            0\n",
       "Age            0\n",
       "SibSp          0\n",
       "Parch          0\n",
       "Ticket         0\n",
       "Fare           0\n",
       "Embarked       0\n",
       "dtype: int64"
      ]
     },
     "execution_count": 30,
     "metadata": {},
     "output_type": "execute_result"
    }
   ],
   "source": [
    "test_data.isnull().sum().sort_values(ascending=False)"
   ]
  },
  {
   "cell_type": "code",
   "execution_count": 31,
   "id": "4c60a281",
   "metadata": {
    "execution": {
     "iopub.execute_input": "2024-01-19T20:05:57.494114Z",
     "iopub.status.busy": "2024-01-19T20:05:57.493420Z",
     "iopub.status.idle": "2024-01-19T20:05:57.504797Z",
     "shell.execute_reply": "2024-01-19T20:05:57.503117Z"
    },
    "papermill": {
     "duration": 0.041383,
     "end_time": "2024-01-19T20:05:57.507520",
     "exception": false,
     "start_time": "2024-01-19T20:05:57.466137",
     "status": "completed"
    },
    "tags": []
   },
   "outputs": [],
   "source": [
    "#Label Encoder\n",
    "labelencoder = LabelEncoder()\n",
    "for col_name in test_data.columns:\n",
    "    if test_data[col_name].dtypes=='object':\n",
    "        test_data[col_name]=labelencoder.fit_transform(test_data[col_name])"
   ]
  },
  {
   "cell_type": "code",
   "execution_count": 32,
   "id": "0a733527",
   "metadata": {
    "execution": {
     "iopub.execute_input": "2024-01-19T20:05:57.550931Z",
     "iopub.status.busy": "2024-01-19T20:05:57.550020Z",
     "iopub.status.idle": "2024-01-19T20:05:57.580649Z",
     "shell.execute_reply": "2024-01-19T20:05:57.579657Z"
    },
    "papermill": {
     "duration": 0.055328,
     "end_time": "2024-01-19T20:05:57.582950",
     "exception": false,
     "start_time": "2024-01-19T20:05:57.527622",
     "status": "completed"
    },
    "tags": []
   },
   "outputs": [
    {
     "data": {
      "text/html": [
       "<div>\n",
       "<style scoped>\n",
       "    .dataframe tbody tr th:only-of-type {\n",
       "        vertical-align: middle;\n",
       "    }\n",
       "\n",
       "    .dataframe tbody tr th {\n",
       "        vertical-align: top;\n",
       "    }\n",
       "\n",
       "    .dataframe thead th {\n",
       "        text-align: right;\n",
       "    }\n",
       "</style>\n",
       "<table border=\"1\" class=\"dataframe\">\n",
       "  <thead>\n",
       "    <tr style=\"text-align: right;\">\n",
       "      <th></th>\n",
       "      <th>PassengerId</th>\n",
       "      <th>Pclass</th>\n",
       "      <th>Name</th>\n",
       "      <th>Sex</th>\n",
       "      <th>Age</th>\n",
       "      <th>SibSp</th>\n",
       "      <th>Parch</th>\n",
       "      <th>Ticket</th>\n",
       "      <th>Fare</th>\n",
       "      <th>Embarked</th>\n",
       "      <th>Survived</th>\n",
       "    </tr>\n",
       "  </thead>\n",
       "  <tbody>\n",
       "    <tr>\n",
       "      <th>0</th>\n",
       "      <td>892</td>\n",
       "      <td>3</td>\n",
       "      <td>206</td>\n",
       "      <td>1</td>\n",
       "      <td>34.5</td>\n",
       "      <td>0</td>\n",
       "      <td>0</td>\n",
       "      <td>152</td>\n",
       "      <td>7.8292</td>\n",
       "      <td>1</td>\n",
       "      <td>0</td>\n",
       "    </tr>\n",
       "    <tr>\n",
       "      <th>1</th>\n",
       "      <td>893</td>\n",
       "      <td>3</td>\n",
       "      <td>403</td>\n",
       "      <td>0</td>\n",
       "      <td>47.0</td>\n",
       "      <td>1</td>\n",
       "      <td>0</td>\n",
       "      <td>221</td>\n",
       "      <td>7.0000</td>\n",
       "      <td>2</td>\n",
       "      <td>1</td>\n",
       "    </tr>\n",
       "    <tr>\n",
       "      <th>2</th>\n",
       "      <td>894</td>\n",
       "      <td>2</td>\n",
       "      <td>269</td>\n",
       "      <td>1</td>\n",
       "      <td>62.0</td>\n",
       "      <td>0</td>\n",
       "      <td>0</td>\n",
       "      <td>73</td>\n",
       "      <td>9.6875</td>\n",
       "      <td>1</td>\n",
       "      <td>0</td>\n",
       "    </tr>\n",
       "    <tr>\n",
       "      <th>3</th>\n",
       "      <td>895</td>\n",
       "      <td>3</td>\n",
       "      <td>408</td>\n",
       "      <td>1</td>\n",
       "      <td>27.0</td>\n",
       "      <td>0</td>\n",
       "      <td>0</td>\n",
       "      <td>147</td>\n",
       "      <td>8.6625</td>\n",
       "      <td>2</td>\n",
       "      <td>0</td>\n",
       "    </tr>\n",
       "    <tr>\n",
       "      <th>4</th>\n",
       "      <td>896</td>\n",
       "      <td>3</td>\n",
       "      <td>178</td>\n",
       "      <td>0</td>\n",
       "      <td>22.0</td>\n",
       "      <td>1</td>\n",
       "      <td>1</td>\n",
       "      <td>138</td>\n",
       "      <td>12.2875</td>\n",
       "      <td>2</td>\n",
       "      <td>1</td>\n",
       "    </tr>\n",
       "  </tbody>\n",
       "</table>\n",
       "</div>"
      ],
      "text/plain": [
       "   PassengerId  Pclass  Name  Sex   Age  SibSp  Parch  Ticket     Fare  \\\n",
       "0          892       3   206    1  34.5      0      0     152   7.8292   \n",
       "1          893       3   403    0  47.0      1      0     221   7.0000   \n",
       "2          894       2   269    1  62.0      0      0      73   9.6875   \n",
       "3          895       3   408    1  27.0      0      0     147   8.6625   \n",
       "4          896       3   178    0  22.0      1      1     138  12.2875   \n",
       "\n",
       "   Embarked  Survived  \n",
       "0         1         0  \n",
       "1         2         1  \n",
       "2         1         0  \n",
       "3         2         0  \n",
       "4         2         1  "
      ]
     },
     "execution_count": 32,
     "metadata": {},
     "output_type": "execute_result"
    }
   ],
   "source": [
    "test_data['Survived'] = model_rf.predict(test_data.drop(['PassengerId','Fare'],axis=1))\n",
    "test_data.head()"
   ]
  },
  {
   "cell_type": "code",
   "execution_count": 33,
   "id": "72ff9944",
   "metadata": {
    "execution": {
     "iopub.execute_input": "2024-01-19T20:05:57.627914Z",
     "iopub.status.busy": "2024-01-19T20:05:57.627045Z",
     "iopub.status.idle": "2024-01-19T20:05:57.638013Z",
     "shell.execute_reply": "2024-01-19T20:05:57.637038Z"
    },
    "papermill": {
     "duration": 0.036357,
     "end_time": "2024-01-19T20:05:57.640668",
     "exception": false,
     "start_time": "2024-01-19T20:05:57.604311",
     "status": "completed"
    },
    "tags": []
   },
   "outputs": [],
   "source": [
    "submission = test_data[['PassengerId','Survived']]\n",
    "submission.to_csv(\"submission.csv\", index=False)"
   ]
  }
 ],
 "metadata": {
  "kaggle": {
   "accelerator": "none",
   "dataSources": [
    {
     "databundleVersionId": 26502,
     "sourceId": 3136,
     "sourceType": "competition"
    }
   ],
   "dockerImageVersionId": 30635,
   "isGpuEnabled": false,
   "isInternetEnabled": true,
   "language": "python",
   "sourceType": "notebook"
  },
  "kernelspec": {
   "display_name": "Python 3",
   "language": "python",
   "name": "python3"
  },
  "language_info": {
   "codemirror_mode": {
    "name": "ipython",
    "version": 3
   },
   "file_extension": ".py",
   "mimetype": "text/x-python",
   "name": "python",
   "nbconvert_exporter": "python",
   "pygments_lexer": "ipython3",
   "version": "3.10.12"
  },
  "papermill": {
   "default_parameters": {},
   "duration": 16.597987,
   "end_time": "2024-01-19T20:05:58.484247",
   "environment_variables": {},
   "exception": null,
   "input_path": "__notebook__.ipynb",
   "output_path": "__notebook__.ipynb",
   "parameters": {},
   "start_time": "2024-01-19T20:05:41.886260",
   "version": "2.4.0"
  }
 },
 "nbformat": 4,
 "nbformat_minor": 5
}
